{
  "cells": [
    {
      "cell_type": "markdown",
      "metadata": {
        "id": "pDrecLU-4QjS"
      },
      "source": [
        "# Практика"
      ]
    },
    {
      "cell_type": "markdown",
      "metadata": {
        "id": "gUvTNDlMaV-a"
      },
      "source": [
        "## Определение вероятности. События\n",
        "\n",
        "Требуется сгенерировать необходимые выборки и произвести по ним расчеты"
      ]
    },
    {
      "cell_type": "markdown",
      "metadata": {
        "id": "5V70InEBTgup"
      },
      "source": [
        "### Задача 1\n",
        "Брошено две монеты. Найти вероятность того, что монеты выпали разными сторонами"
      ]
    },
    {
      "cell_type": "code",
      "execution_count": 1,
      "metadata": {
        "id": "88Iw-SL3jYQV"
      },
      "outputs": [],
      "source": [
        "import pandas as pd\n",
        "import numpy as np\n",
        "import matplotlib.pyplot as plt\n",
        "import random\n",
        "import scipy.stats as sts\n",
        "%matplotlib inline\n",
        "\n",
        "import warnings\n",
        "warnings.filterwarnings('ignore')"
      ]
    },
    {
      "cell_type": "code",
      "source": [
        "n = 1000000\n",
        "array1 = np.array([sts.bernoulli(0.5).rvs(n)])\n",
        "array2 = np.array([sts.bernoulli(0.5).rvs(n)])\n",
        "first_condition = [(1, 0), (0, 1)]\n",
        "concat_array = np.concatenate((array1.reshape(n, 1), \n",
        "                               array2.reshape(n, 1)), axis=1)\n",
        "filtered_array = list(filter(lambda x: (x[0], x[1]) in first_condition, concat_array))\n",
        "print(len(filtered_array) / len(concat_array))\n"
      ],
      "metadata": {
        "id": "VCTYXW3WxSJg",
        "outputId": "85f0955d-946d-4ac7-b7e9-67b2c0385571",
        "colab": {
          "base_uri": "https://localhost:8080/"
        }
      },
      "execution_count": null,
      "outputs": [
        {
          "output_type": "stream",
          "name": "stdout",
          "text": [
            "0.500126\n"
          ]
        }
      ]
    },
    {
      "cell_type": "markdown",
      "metadata": {
        "id": "t0XOMos2Tl0e"
      },
      "source": [
        "### Задача 2\n",
        "Брошено три монеты. Описать множество всех элементарных событий. Найти вероятности следующих событий:\n",
        "\n",
        "\n",
        "1.   A = {не выпало ни одного герба}\n",
        "2.   B = {выпало четное число гербов}\n",
        "3.   C = {на третьей монете выпал герб}\n"
      ]
    },
    {
      "cell_type": "code",
      "execution_count": null,
      "metadata": {
        "id": "o7NjAE9uUo-L",
        "outputId": "36c0ba4e-d763-4bea-d100-1aba60c7ef4b",
        "colab": {
          "base_uri": "https://localhost:8080/"
        }
      },
      "outputs": [
        {
          "output_type": "stream",
          "name": "stdout",
          "text": [
            "A: 0.125192\n",
            "B: 0.374704\n",
            "C: 0.499521\n"
          ]
        }
      ],
      "source": [
        "# 50/50, что на третьей монете выпадет герб\n",
        "n = 1000000\n",
        "array1 = np.array([sts.bernoulli(0.5).rvs(n)])\n",
        "array2 = np.array([sts.bernoulli(0.5).rvs(n)])\n",
        "array3 = np.array([sts.bernoulli(0.5).rvs(n)])\n",
        "first_condition = [(0, 0, 0)]\n",
        "second_condition = [(0, 0, 1), (0, 1, 0), (1, 0, 0)]\n",
        "concat_array = np.concatenate((array1.reshape(n, 1), \n",
        "                               array2.reshape(n, 1),\n",
        "                               array3.reshape(n, 1)), axis=1)\n",
        "filtered_array1 = list(filter(lambda x: (x[0], x[1], x[2]) in first_condition, concat_array))\n",
        "filtered_array2 = list(filter(lambda x: (x[0], x[1], x[2]) in second_condition, concat_array))\n",
        "filtered_array3 = list(filter(lambda x: (x[2]) == 0, concat_array)) \n",
        "print('A:', len(filtered_array1) / len(concat_array))\n",
        "print('B:', len(filtered_array2) / len(concat_array))\n",
        "print('C:', len(filtered_array3) / len(concat_array))"
      ]
    },
    {
      "cell_type": "markdown",
      "metadata": {
        "id": "XDB3YYtzw3fE"
      },
      "source": [
        "Предлагается также решить задачи: \n",
        "\n",
        "### Задача 3\n",
        "Из двух претендентов E и L на ответственную должность три члена комиссии должны отобрать одного. Каждый член комиссии должен указать либо одного достойного, либо забраковать обоих. Претендент считается выбранным, если он был признана достойным хотя бы двумя членами комиссии.\n",
        "Найти вероятность событий:\n",
        "\n",
        "A = {рекомендован L}, B = {рекомендован E}\n"
      ]
    },
    {
      "cell_type": "code",
      "execution_count": 2,
      "metadata": {
        "id": "e_bXojsyw3fF",
        "colab": {
          "base_uri": "https://localhost:8080/"
        },
        "outputId": "bf77b641-a1d0-4063-ab5c-52f938507dea"
      },
      "outputs": [
        {
          "output_type": "stream",
          "name": "stdout",
          "text": [
            "E:  0.25935\n",
            "L:  0.26006\n"
          ]
        }
      ],
      "source": [
        "n = 1000000\n",
        "E = 1\n",
        "L = 2\n",
        "array1 = np.random.randint(0, 3, n)\n",
        "array2 = np.random.randint(0, 3, n)\n",
        "array3 = np.random.randint(0, 3, n)\n",
        "\n",
        "concat_array = np.concatenate((array1.reshape(n, 1), \n",
        "                               array2.reshape(n, 1),\n",
        "                               array3.reshape(n, 1)), axis=1)\n",
        "print('E: ', len(np.where(np.sum(concat_array == E, axis=1) >= 2)[0]) / n)\n",
        "print('L: ', len(np.where(np.sum(concat_array == L, axis=1) >= 2)[0]) / n)"
      ]
    },
    {
      "cell_type": "markdown",
      "metadata": {
        "id": "peM38mVfYa5B"
      },
      "source": [
        "### Задача 4\n",
        "Брошено две игральных кости. Описать множество элементарных событий. Найти вероятности событий:\n",
        "\n",
        "A = {вышло две \"шестерки\"}\n",
        "\n",
        "B = {сумма выпавших очков не меньше 11}\n",
        "\n",
        "C = {не выпала ни одна \"шестерка\"}"
      ]
    },
    {
      "cell_type": "code",
      "execution_count": 5,
      "metadata": {
        "id": "JQXKeQDnw3fI",
        "colab": {
          "base_uri": "https://localhost:8080/"
        },
        "outputId": "ab7fb831-ec8b-47f1-8e58-09290960c3a1"
      },
      "outputs": [
        {
          "output_type": "stream",
          "name": "stdout",
          "text": [
            "A:  0.02788\n",
            "B:  0.083498\n",
            "C:  0.694402\n"
          ]
        }
      ],
      "source": [
        "n = 1000000\n",
        "array1 = np.random.randint(1, 7, n)\n",
        "array2 = np.random.randint(1, 7, n)\n",
        "first_var = [(6, 6)]\n",
        "second_var = [(0, 0, 1), (0, 1, 0), (1, 0, 0)]\n",
        "third_var = [(1, 1, 0)]\n",
        "\n",
        "concat_array = np.concatenate((array1.reshape(n, 1), \n",
        "                               array2.reshape(n, 1)), axis=1)\n",
        "filtered_array1 = list(filter(lambda x: (x[0], x[1]) in first_var, concat_array))\n",
        "filtered_array2 = np.where(np.sum(concat_array, axis=1) >= 11)\n",
        "filtered_array3 = list(filter(lambda x: (x[0] != 6) & (x[1] != 6) , concat_array))\n",
        "\n",
        "print('A: ', len(filtered_array1) / len(concat_array))\n",
        "print('B: ', len(filtered_array2[0]) / len(concat_array))\n",
        "print('C: ', len(filtered_array3) / len(concat_array))"
      ]
    },
    {
      "cell_type": "markdown",
      "metadata": {
        "id": "f-Bi0p8haclB"
      },
      "source": [
        "## Вероятность суммы событий"
      ]
    },
    {
      "cell_type": "markdown",
      "metadata": {
        "id": "g7A7QlvGTnwZ"
      },
      "source": [
        "### Задача 5\n",
        "Брошены две игральные кости. Найти вероятность события D = {выпала хотя бы одна шестёрка}\n"
      ]
    },
    {
      "cell_type": "code",
      "execution_count": 6,
      "metadata": {
        "id": "vjtTJN-kUp9D",
        "colab": {
          "base_uri": "https://localhost:8080/"
        },
        "outputId": "92c356a5-1967-4dfb-e378-9fcef3ceeabd"
      },
      "outputs": [
        {
          "output_type": "stream",
          "name": "stdout",
          "text": [
            "D:  0.305782\n"
          ]
        }
      ],
      "source": [
        "n = 1000000\n",
        "array1 = np.random.randint(1, 7, n)\n",
        "array2 = np.random.randint(1, 7, n)\n",
        "\n",
        "concat_array = np.concatenate((array1.reshape(n, 1), \n",
        "                               array2.reshape(n, 1)), axis=1)\n",
        "filtered_array1 = list(filter(lambda x: (x[0] == 6) | (x[1] == 6) , concat_array))\n",
        "print('D: ', len(filtered_array1) / len(concat_array))"
      ]
    },
    {
      "cell_type": "markdown",
      "metadata": {
        "id": "R1bYSzQQbC6I"
      },
      "source": [
        "Предлагается также решить задачи: \n",
        "\n",
        "### Задача 6\n",
        "В телефонном номере три последние цифры стерлись. Считая, что все возможные значения стершихся цифр равновероятны, найти вероятность событий:\n",
        "\n",
        "A = {Стерлись различные цифры},\n",
        "\n",
        "B = {Стерлись одинаковые цифры},\n",
        "\n",
        "C = {Среди стершихся цифр хотя бы две совпадают},\n",
        "\n",
        "D = {Среди стершихся цифр хотя бы две различны}\n"
      ]
    },
    {
      "cell_type": "code",
      "execution_count": 8,
      "metadata": {
        "id": "99DBns4bw3fL",
        "colab": {
          "base_uri": "https://localhost:8080/"
        },
        "outputId": "ad65d6c4-2a25-4af0-f660-64015ea9cc84"
      },
      "outputs": [
        {
          "output_type": "stream",
          "name": "stdout",
          "text": [
            "A:  0.719824\n",
            "B:  0.010056\n",
            "C:  0.280176\n",
            "D:  0.989944\n"
          ]
        }
      ],
      "source": [
        "n = 1000000\n",
        "array1 = np.random.randint(0, 10, n)\n",
        "array2 = np.random.randint(0, 10, n)\n",
        "array3 = np.random.randint(0, 10, n)\n",
        "\n",
        "concat_array = np.concatenate((array1.reshape(n, 1), \n",
        "                               array2.reshape(n, 1),\n",
        "                               array3.reshape(n, 1)), axis=1)\n",
        "filtered_array1 = list(filter(lambda x: (x[0] != x[1] and x[2] != x[0] and x[2] != x[1]) , concat_array))\n",
        "filtered_array2 = list(filter(lambda x: (x[0] == x[1] and x[1] == x[2]) , concat_array))\n",
        "filtered_array3 = list(filter(lambda x: (x[0] == x[1] or x[1] == x[2] or x[0] == x[2]) , concat_array))\n",
        "filtered_array4 = list(filter(lambda x: (x[0] != x[1] or x[1] != x[2] or x[0] != x[2]) , concat_array))\n",
        "print('A: ', len(filtered_array1) / len(concat_array))\n",
        "print('B: ', len(filtered_array2) / len(concat_array))\n",
        "print('C: ', len(filtered_array3) / len(concat_array))\n",
        "print('D: ', len(filtered_array4) / len(concat_array))\n",
        "\n"
      ]
    },
    {
      "cell_type": "markdown",
      "metadata": {
        "id": "RnugkR8BalK_"
      },
      "source": [
        "## Случайные величины"
      ]
    },
    {
      "cell_type": "markdown",
      "metadata": {
        "id": "yLoZDZ17UVsp"
      },
      "source": [
        "### Задача 7\n",
        "В лотерее имеется 10 билетов, из которых один выигрышный. Размер выигрыша 10 ден. ед.; стоимость билета 1 ден ед. Найти закон распределения случайной величины X, равной чистому выигрышу участника лотереи, который вытаскивает билет первым."
      ]
    },
    {
      "cell_type": "code",
      "execution_count": 12,
      "metadata": {
        "id": "oNk432sKUqzT",
        "colab": {
          "base_uri": "https://localhost:8080/",
          "height": 297
        },
        "outputId": "9b3e7bdb-b94f-4db7-8d48-e2003cd9c116"
      },
      "outputs": [
        {
          "output_type": "execute_result",
          "data": {
            "text/plain": [
              "[]"
            ]
          },
          "metadata": {},
          "execution_count": 12
        },
        {
          "output_type": "display_data",
          "data": {
            "text/plain": [
              "<Figure size 432x288 with 1 Axes>"
            ],
            "image/png": "[encoded data removed]"
          },
          "metadata": {
            "needs_background": "light"
          }
        }
      ],
      "source": [
        "result = [-1, 9]\n",
        "variants = [0.9, 0.1]\n",
        "x = np.linspace(0,1,2)\n",
        "plt.scatter(result, variants, color=\"green\" )\n",
        "plt.ylabel(\"Вероятность выигрыша\")\n",
        "plt.xlabel(\"Чистый доход\")\n",
        "plt.xticks(np.arange(-1, 10, 1))\n",
        "plt.yticks(np.arange(0, 1, 0.1))\n",
        "plt.plot()"
      ]
    },
    {
      "cell_type": "markdown",
      "metadata": {
        "id": "U-NK9liSbpvb"
      },
      "source": [
        "Предлагается также решить задачу: \n",
        "\n",
        "### Задача 8\n",
        "Брошены две игральные кости. Найти закон распределения случайной величины $X$, равной сумме выпавших очков. Найти вероятности событий ${X <= 4}$, ${X > 4}$"
      ]
    },
    {
      "cell_type": "code",
      "execution_count": 8,
      "metadata": {
        "id": "RwDxXVzow3fO"
      },
      "outputs": [],
      "source": []
    },
    {
      "cell_type": "markdown",
      "metadata": {
        "id": "shgW4D83awjK"
      },
      "source": [
        "## Условные вероятности"
      ]
    },
    {
      "cell_type": "markdown",
      "metadata": {
        "id": "Fbu1RFZwWZrk"
      },
      "source": [
        "### Задача 9\n",
        "Из колоды (36 карт) вынимают последовательно без возвращения две карты. Найти вероятность того, что первой картой была шестерка, а второй — семерка. Найти условную вероятность того же события при условии, что обе карты бубновой масти.\n"
      ]
    },
    {
      "cell_type": "code",
      "execution_count": null,
      "metadata": {
        "id": "037o56awW9-E"
      },
      "outputs": [],
      "source": []
    },
    {
      "cell_type": "markdown",
      "metadata": {
        "id": "hNVxtaz5c57b"
      },
      "source": [
        "Предлагается также решить задачу: \n",
        "\n",
        "### Задача 10\n",
        "Из урны, содержащей два белых и три черных шара, последовательно извлекают два шара; вынутые шары не возвращаются. Если первый шар оказался черным, то перед вторым извлечением в урну добавляют белый шар. В противном случае состав оставшихся шаров не меняют. Найти вероятности событий:\n",
        "\n",
        "$A$ = {извлечены два белых шара},\n",
        "\n",
        "$B$ = {извлечены два черных шара}\n",
        "\n",
        "Указание. Пусть событие $C_1$ = {первый шар белый}, событие $C_2$ = {второй шар белый}. Тогда $A = C_1C_2$, $B = \\overline C_1 \\overline C_2$ "
      ]
    },
    {
      "cell_type": "code",
      "execution_count": null,
      "metadata": {
        "id": "WSLnhk2sdBt_"
      },
      "outputs": [],
      "source": []
    }
  ],
  "metadata": {
    "colab": {
      "collapsed_sections": [],
      "name": "Практика_к_занятию_11.ipynb",
      "provenance": []
    },
    "kernelspec": {
      "display_name": "Python 3",
      "language": "python",
      "name": "python3"
    },
    "language_info": {
      "codemirror_mode": {
        "name": "ipython",
        "version": 3
      },
      "file_extension": ".py",
      "mimetype": "text/x-python",
      "name": "python",
      "nbconvert_exporter": "python",
      "pygments_lexer": "ipython3",
      "version": "3.7.6"
    }
  },
  "nbformat": 4,
  "nbformat_minor": 0
}